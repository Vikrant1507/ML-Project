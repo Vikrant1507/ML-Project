{
 "cells": [
  {
   "cell_type": "code",
   "execution_count": null,
   "id": "3b12031d",
   "metadata": {},
   "outputs": [],
   "source": [
    "import os\n",
    "import config\n",
    "from data_loader import *\n",
    "from model import *\n",
    "import tensorflow as tf\n",
    "\n",
    "# Print current working directory\n",
    "print(f\"Current working directory: {os.getcwd()}\")\n",
    "\n",
    "# Verify file path\n",
    "file_path = config.DATA_PATH\n",
    "print(f\"Config file path: {file_path}\")\n",
    "\n",
    "# Check if the dataset file exists\n",
    "if not os.path.isfile(file_path):\n",
    "    raise FileNotFoundError(f\"Error: The dataset file was not found at {file_path}\")\n",
    "\n",
    "# Load and preprocess data\n",
    "X_raw, y = load_data(file_path)\n",
    "\n",
    "\n",
    "# Print confirmation\n",
    "print(f\"Data Loaded: X shape = {X_raw.shape}, y shape = {y.shape}\")\n",
    "print(\"\\nTop 5 rows of X_raw:\")\n",
    "print(X_raw.head())\n",
    "\n",
    "print(\"\\nTop 5 rows of y:\")\n",
    "print(y.head())\n"
   ]
  },
  {
   "cell_type": "code",
   "execution_count": null,
   "id": "fe3de2d2",
   "metadata": {},
   "outputs": [],
   "source": [
    "#!pip install tensorflow xgboost optuna --user"
   ]
  },
  {
   "cell_type": "code",
   "execution_count": null,
   "id": "f8f6effb",
   "metadata": {},
   "outputs": [],
   "source": [
    "# EDA\n",
    "print(generate_summary_statistics(X_raw, y))"
   ]
  },
  {
   "cell_type": "code",
   "execution_count": null,
   "id": "eeea4e37",
   "metadata": {},
   "outputs": [],
   "source": [
    "handle_missing_data(X_raw, strategy='mean')"
   ]
  },
  {
   "cell_type": "code",
   "execution_count": null,
   "id": "d4036e38",
   "metadata": {},
   "outputs": [],
   "source": [
    "X_scaled = preprocess_data(X_raw)\n",
    "print(f\"Preprocessed Data Shape: {X_scaled.shape}\")"
   ]
  },
  {
   "cell_type": "code",
   "execution_count": null,
   "id": "42371c00",
   "metadata": {},
   "outputs": [],
   "source": [
    "plot_boxplots(X_raw)\n"
   ]
  },
  {
   "cell_type": "markdown",
   "id": "b71f96c2",
   "metadata": {},
   "source": [
    "Boxplot of Spectral Reflectance Features:\n",
    "\n",
    "There are outliers in the spectral reflectance values, especially at lower and higher wavelengths. These need to be flagged or removed to avoid skewing the model."
   ]
  },
  {
   "cell_type": "code",
   "execution_count": null,
   "id": "2648dcab",
   "metadata": {},
   "outputs": [],
   "source": [
    "plot_spectral_reflectance(X_raw)"
   ]
  },
  {
   "cell_type": "markdown",
   "id": "12aec87f",
   "metadata": {},
   "source": [
    "Key Observations from Visualizations: Line Plot (Average Reflectance Over Wavelengths): Wavelengths which is been set or taken in the interval of 10\n",
    "\n",
    "Reflectance increases sharply at lower wavelengths, stabilizes in the middle range, and slightly declines at higher wavelengths.\n",
    "\n",
    "This trend suggests that certain wavelength ranges are more reflective and might be more predictive."
   ]
  },
  {
   "cell_type": "code",
   "execution_count": null,
   "id": "1158a48b",
   "metadata": {},
   "outputs": [],
   "source": [
    "plot_sample_heatmap(X_scaled)"
   ]
  },
  {
   "cell_type": "markdown",
   "id": "9a5813d6",
   "metadata": {},
   "source": [
    "Strong correlations exist between adjacent wavelength bands, indicating redundancy in features. Dimensionality reduction techniques like PCA can help reduce this redundancy without losing essential information."
   ]
  },
  {
   "cell_type": "code",
   "execution_count": null,
   "id": "2125659d",
   "metadata": {},
   "outputs": [],
   "source": [
    "outlier_count, outlier_indices = detect_outlier_zscore(X_raw)\n",
    "print(f\"Number of outliers: {outlier_count}\")\n",
    "print(f\"First 10 outlier indices: {outlier_indices[:29]}\")"
   ]
  },
  {
   "cell_type": "code",
   "execution_count": null,
   "id": "97280820",
   "metadata": {},
   "outputs": [],
   "source": [
    "# Remove outliers\n",
    "X_cleaned, y_cleaned = remove_outliers(X_raw, y)"
   ]
  },
  {
   "cell_type": "code",
   "execution_count": null,
   "id": "f6409bac",
   "metadata": {},
   "outputs": [],
   "source": [
    "X_cleaned"
   ]
  },
  {
   "cell_type": "code",
   "execution_count": null,
   "id": "66a10596",
   "metadata": {},
   "outputs": [],
   "source": [
    "y_cleaned"
   ]
  },
  {
   "cell_type": "code",
   "execution_count": null,
   "id": "67f3edf0",
   "metadata": {},
   "outputs": [],
   "source": [
    "detect_sensor_drift(X_cleaned)"
   ]
  },
  {
   "cell_type": "code",
   "execution_count": null,
   "id": "3ee9ff4f",
   "metadata": {},
   "outputs": [],
   "source": [
    "detect_sensor_drift_PCA(X_cleaned,y_cleaned)"
   ]
  },
  {
   "cell_type": "markdown",
   "id": "db96cb39",
   "metadata": {},
   "source": [
    "The spread of points is relatively evenly distributed, meaning there is no clear trend of shift in any one direction. It is found that yes there was for sensor drift or inconsistencies through checks\n",
    "\n",
    "Color Distribution:\n",
    "\n",
    "Dark Blue Points: Represent the majority of data, indicating normal sensor readings.\n",
    "\n",
    "Yellow, Orange, and Red Points: These are likely outliers or drifted points, suggesting that the sensor readings in these regions deviate from the normal.\n",
    "\n",
    "These anomalous points are concentrated in the lower region (PC2 ~ -10 to -15) and right side (PC1 ~ 20 to 40), suggesting that certain sensors might have experienced drift over time, indicating possible sensor drift."
   ]
  },
  {
   "cell_type": "code",
   "execution_count": null,
   "id": "df8cba8a",
   "metadata": {},
   "outputs": [],
   "source": [
    "create_spectral_indices(X_raw)"
   ]
  },
  {
   "cell_type": "code",
   "execution_count": null,
   "id": "4c9ef0b8",
   "metadata": {},
   "outputs": [],
   "source": [
    "X_scaled = preprocess_data(X_cleaned)\n",
    "print(f\"Preprocessed Data Shape: {X_scaled.shape}\")"
   ]
  },
  {
   "cell_type": "code",
   "execution_count": null,
   "id": "5b657ea4",
   "metadata": {},
   "outputs": [],
   "source": [
    "X_train,X_test,y_train,y_test = split_data(X_scaled,y_cleaned)"
   ]
  },
  {
   "cell_type": "code",
   "execution_count": null,
   "id": "67214773",
   "metadata": {},
   "outputs": [],
   "source": [
    "X_train.shape"
   ]
  },
  {
   "cell_type": "code",
   "execution_count": null,
   "id": "c0002ff6",
   "metadata": {},
   "outputs": [],
   "source": [
    "X_test.shape"
   ]
  },
  {
   "cell_type": "code",
   "execution_count": null,
   "id": "78df45be",
   "metadata": {
    "scrolled": true
   },
   "outputs": [],
   "source": [
    "# Build the model\n",
    "model = build_simple_nn(X_train.shape[1])\n",
    "\n",
    "# Compile the model before training\n",
    "model.compile(optimizer=\"adam\", loss=\"mse\", metrics=[\"mae\"])\n",
    "\n",
    "# Train the model with training data\n",
    "trained_model = train_model(model, X_train, y_train)\n",
    "\n"
   ]
  },
  {
   "cell_type": "code",
   "execution_count": null,
   "id": "fd122364",
   "metadata": {},
   "outputs": [],
   "source": [
    "# Build the XGBoost model\n",
    "xgb_model = build_xgboost(n_estimators=200, learning_rate=0.05)\n",
    "\n",
    "# Train the model\n",
    "xgb_model.fit(X_train, y_train)\n",
    "\n",
    "# Make predictions\n",
    "y_pred = xgb_model.predict(X_test)\n",
    "\n",
    "# Evaluate the model\n",
    "from sklearn.metrics import mean_squared_error\n",
    "\n",
    "mse = mean_squared_error(y_test, y_pred)\n",
    "print(f\"Mean Squared Error: {mse}\")\n"
   ]
  },
  {
   "cell_type": "code",
   "execution_count": null,
   "id": "3db60235",
   "metadata": {},
   "outputs": [],
   "source": [
    "# Build the XGBoost model\n",
    "xgb_model = build_xgboost(n_estimators=200, learning_rate=0.05)\n",
    "\n",
    "# Perform cross-validation\n",
    "cv_results = cross_validate(xgb_model, X_scaled, y_cleaned, n_splits=5)\n",
    "\n",
    "# Print results\n",
    "print(f\"Mean MAE: {cv_results['mean_mae']}\")\n",
    "print(f\"Standard Deviation of MAE: {cv_results['std_mae']}\")\n"
   ]
  },
  {
   "cell_type": "code",
   "execution_count": null,
   "id": "678aa6b9",
   "metadata": {},
   "outputs": [],
   "source": [
    "# Custom number of trials\n",
    "best_params = optimize_nn_hyperparams(\n",
    "    X_train, \n",
    "    y_train, \n",
    "    X_test, \n",
    "    y_test, \n",
    "    n_trials=100  # Increase number of trials for more comprehensive search\n",
    ")\n",
    "\n",
    "# After getting best parameters, you can build and train final model\n",
    "final_model = build_simple_nn(\n",
    "    input_shape=X_train.shape[1], \n",
    "    **best_params\n",
    ")\n",
    "\n",
    "# Fit the model\n",
    "final_model.fit(\n",
    "    X_train, \n",
    "    y_train, \n",
    "    epochs=50, \n",
    "    validation_data=(X_test, y_test),\n",
    "    verbose=1\n",
    ")\n",
    "\n",
    "# Evaluate the model\n",
    "test_loss, test_mae = final_model.evaluate(X_test, y_test)\n",
    "print(f\"Test MAE: {test_mae}\")"
   ]
  },
  {
   "cell_type": "code",
   "execution_count": null,
   "id": "c3eadc95",
   "metadata": {},
   "outputs": [],
   "source": [
    "print(f\"Test MAE: {test_mae}\")"
   ]
  },
  {
   "cell_type": "code",
   "execution_count": 1,
   "id": "41dc1927",
   "metadata": {},
   "outputs": [
    {
     "name": "stdout",
     "output_type": "stream",
     "text": [
      "Collecting shap\n",
      "  Using cached shap-0.44.1-cp38-cp38-win_amd64.whl (450 kB)\n",
      "Requirement already satisfied: tqdm>=4.27.0 in c:\\programdata\\anaconda3\\lib\\site-packages (from shap) (4.59.0)\n",
      "Requirement already satisfied: cloudpickle in c:\\programdata\\anaconda3\\lib\\site-packages (from shap) (1.6.0)\n",
      "Requirement already satisfied: pandas in c:\\programdata\\anaconda3\\lib\\site-packages (from shap) (1.2.4)\n",
      "Collecting packaging>20.9\n",
      "  Using cached packaging-24.2-py3-none-any.whl (65 kB)\n",
      "Requirement already satisfied: scipy in c:\\programdata\\anaconda3\\lib\\site-packages (from shap) (1.6.2)\n",
      "Requirement already satisfied: scikit-learn in c:\\users\\samee\\appdata\\roaming\\python\\python38\\site-packages (from shap) (1.3.2)\n",
      "Requirement already satisfied: numba in c:\\programdata\\anaconda3\\lib\\site-packages (from shap) (0.53.1)\n",
      "Requirement already satisfied: slicer==0.0.7 in c:\\programdata\\anaconda3\\lib\\site-packages (from shap) (0.0.7)\n",
      "Requirement already satisfied: numpy in c:\\users\\samee\\appdata\\roaming\\python\\python38\\site-packages (from shap) (1.22.4)\n",
      "Requirement already satisfied: llvmlite<0.37,>=0.36.0rc1 in c:\\programdata\\anaconda3\\lib\\site-packages (from numba->shap) (0.36.0)\n",
      "Requirement already satisfied: setuptools in c:\\programdata\\anaconda3\\lib\\site-packages (from numba->shap) (52.0.0.post20210125)\n",
      "Requirement already satisfied: pytz>=2017.3 in c:\\programdata\\anaconda3\\lib\\site-packages (from pandas->shap) (2021.1)\n",
      "Requirement already satisfied: python-dateutil>=2.7.3 in c:\\programdata\\anaconda3\\lib\\site-packages (from pandas->shap) (2.8.1)\n",
      "Requirement already satisfied: six>=1.5 in c:\\programdata\\anaconda3\\lib\\site-packages (from python-dateutil>=2.7.3->pandas->shap) (1.15.0)\n",
      "Requirement already satisfied: joblib>=1.1.1 in c:\\users\\samee\\appdata\\roaming\\python\\python38\\site-packages (from scikit-learn->shap) (1.3.2)\n",
      "Requirement already satisfied: threadpoolctl>=2.0.0 in c:\\programdata\\anaconda3\\lib\\site-packages (from scikit-learn->shap) (2.1.0)\n",
      "Installing collected packages: packaging, shap\n",
      "Successfully installed packaging-24.2 shap-0.44.1\n",
      "Note: you may need to restart the kernel to use updated packages.\n"
     ]
    }
   ],
   "source": [
    "#pip install shap --user"
   ]
  },
  {
   "cell_type": "code",
   "execution_count": null,
   "id": "e462564e",
   "metadata": {},
   "outputs": [],
   "source": []
  },
  {
   "cell_type": "code",
   "execution_count": null,
   "id": "5dd12a83",
   "metadata": {},
   "outputs": [],
   "source": []
  },
  {
   "cell_type": "code",
   "execution_count": null,
   "id": "8ddf1cd0",
   "metadata": {},
   "outputs": [],
   "source": []
  }
 ],
 "metadata": {
  "kernelspec": {
   "display_name": "Python 3",
   "language": "python",
   "name": "python3"
  },
  "language_info": {
   "codemirror_mode": {
    "name": "ipython",
    "version": 3
   },
   "file_extension": ".py",
   "mimetype": "text/x-python",
   "name": "python",
   "nbconvert_exporter": "python",
   "pygments_lexer": "ipython3",
   "version": "3.8.8"
  }
 },
 "nbformat": 4,
 "nbformat_minor": 5
}
